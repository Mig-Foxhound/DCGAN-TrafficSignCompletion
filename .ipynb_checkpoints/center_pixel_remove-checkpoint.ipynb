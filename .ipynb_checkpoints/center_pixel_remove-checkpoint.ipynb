{
 "cells": [
  {
   "cell_type": "code",
   "execution_count": 1,
   "metadata": {},
   "outputs": [],
   "source": [
    "def image_pixel_removing(losing_percent,image_path,filename):\n",
    "    from PIL import Image\n",
    "    im=Image.open(image_path)\n",
    "    pix = im.load()\n",
    "    width=im.size[0]\n",
    "    height=im.size[1]\n",
    "    x_center=width/2\n",
    "    y_center=height/2\n",
    "    x_off=width*losing_percent/2\n",
    "    y_off=height*losing_percent/2\n",
    "    global flag\n",
    "    if flag:\n",
    "        print('width',width)\n",
    "        print('height',height)\n",
    "        print('x:',int(x_center-x_off),int(x_center+x_off))\n",
    "        print('y:',int(y_center-y_off),int(y_center+y_off))\n",
    "        flag=0\n",
    "    for x in range(int(x_center-x_off),int(x_center+x_off)):\n",
    "        for y in range(int(y_center-y_off),int(y_center+y_off)):\n",
    "            pix[x,y]=(0,0,0)\n",
    "    im.save('/Users/wujiaying/Downloads/ECE544_final_project_GAN/AllTrafficImageModified/'+filename)"
   ]
  },
  {
   "cell_type": "code",
   "execution_count": 3,
   "metadata": {},
   "outputs": [],
   "source": [
    "import os"
   ]
  },
  {
   "cell_type": "code",
   "execution_count": 6,
   "metadata": {},
   "outputs": [
    {
     "name": "stdout",
     "output_type": "stream",
     "text": [
      "('width', 33)\n",
      "('height', 35)\n",
      "('x:', 11, 20)\n",
      "('y:', 11, 22)\n"
     ]
    }
   ],
   "source": [
    "directory='/Users/wujiaying/Downloads/ECE544_final_project_GAN/AllTrafficImage'\n",
    "global flag\n",
    "flag=1\n",
    "for filename in os.listdir(directory):\n",
    "    if filename.endswith(\".png\"): \n",
    "        path=os.path.join(directory, filename)\n",
    "        image_pixel_removing(0.3,path,filename)\n",
    "        #print()\n",
    "        #print(filename)\n",
    "        continue\n",
    "    else:\n",
    "        continue"
   ]
  },
  {
   "cell_type": "code",
   "execution_count": null,
   "metadata": {},
   "outputs": [],
   "source": []
  }
 ],
 "metadata": {
  "kernelspec": {
   "display_name": "Python 3",
   "language": "python",
   "name": "python3"
  },
  "language_info": {
   "codemirror_mode": {
    "name": "ipython",
    "version": 3
   },
   "file_extension": ".py",
   "mimetype": "text/x-python",
   "name": "python",
   "nbconvert_exporter": "python",
   "pygments_lexer": "ipython3",
   "version": "3.6.3"
  }
 },
 "nbformat": 4,
 "nbformat_minor": 2
}
